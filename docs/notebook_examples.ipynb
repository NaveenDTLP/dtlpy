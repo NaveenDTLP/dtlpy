{
 "cells": [
  {
   "cell_type": "markdown",
   "metadata": {},
   "source": [
    "# Notebook Examples"
   ]
  },
  {
   "cell_type": "code",
   "execution_count": 1,
   "metadata": {
    "scrolled": true
   },
   "outputs": [],
   "source": [
    "import dtlpy as dl"
   ]
  },
  {
   "cell_type": "markdown",
   "metadata": {},
   "source": [
    "## Create a project"
   ]
  },
  {
   "cell_type": "code",
   "execution_count": 2,
   "metadata": {
    "scrolled": true
   },
   "outputs": [],
   "source": [
    "project = dl.projects.create(project_name='Pigs')"
   ]
  },
  {
   "cell_type": "markdown",
   "metadata": {},
   "source": [
    "## Print a project"
   ]
  },
  {
   "cell_type": "code",
   "execution_count": 3,
   "metadata": {
    "scrolled": true
   },
   "outputs": [
    {
     "name": "stdout",
     "output_type": "stream",
     "text": [
      "\n",
      "+----+---------------------+-----------------------+--------------------------------------+---------+-------+\n",
      "|    | createdAt           | creator               | id                                   | name    | org   |\n",
      "|----+---------------------+-----------------------+--------------------------------------+---------+-------|\n",
      "|  0 | 2019-07-31 12:01:36 | oa-test-1@dataloop.ai | 023a227a-7343-45a4-a657-2c3b49785c0a | b'Pigs' |       |\n",
      "+----+---------------------+-----------------------+--------------------------------------+---------+-------+\n"
     ]
    }
   ],
   "source": [
    "project.print()"
   ]
  },
  {
   "cell_type": "markdown",
   "metadata": {},
   "source": [
    "## Create a dataset"
   ]
  },
  {
   "cell_type": "code",
   "execution_count": 4,
   "metadata": {
    "scrolled": true
   },
   "outputs": [],
   "source": [
    "dataset = project.datasets.create(dataset_name='My_Dataset')"
   ]
  },
  {
   "cell_type": "markdown",
   "metadata": {},
   "source": [
    "## Print a dataset"
   ]
  },
  {
   "cell_type": "code",
   "execution_count": 5,
   "metadata": {
    "scrolled": true
   },
   "outputs": [
    {
     "name": "stdout",
     "output_type": "stream",
     "text": [
      "\n",
      "+----+--------------------------+---------------+-------------+-----------------------+------------------------------------------+--------------+\n",
      "|    | id                       | name          |   annotated | creator               | projects                                 |   itemsCount |\n",
      "|----+--------------------------+---------------+-------------+-----------------------+------------------------------------------+--------------|\n",
      "|  0 | 5d4183239e92cf4a0af8b20a | b'My_Dataset' |           0 | oa-test-1@dataloop.ai | ['023a227a-7343-45a4-a657-2c3b49785c0a'] |            0 |\n",
      "+----+--------------------------+---------------+-------------+-----------------------+------------------------------------------+--------------+\n"
     ]
    }
   ],
   "source": [
    "dataset.print()"
   ]
  },
  {
   "cell_type": "markdown",
   "metadata": {},
   "source": [
    "## Upload items to dataset"
   ]
  },
  {
   "cell_type": "code",
   "execution_count": 6,
   "metadata": {
    "scrolled": true
   },
   "outputs": [
    {
     "name": "stderr",
     "output_type": "stream",
     "text": [
      " [Elapsed Time: 0:00:01] |###################################| (Time:  0:00:01)\n"
     ]
    }
   ],
   "source": [
    "# item_paths\n",
    "paths= [\n",
    "    '/Users/aharonlouzon/Desktop/Dataloop/SDK/Aharon/flower.jpg',  # single image path\n",
    "    '/Users/aharonlouzon/Desktop/Dataloop/SDK/Aharon/dogs',       # directory path - will e uploaded to platform with directory\n",
    "    '/Users/aharonlouzon/Desktop/Dataloop/SDK/Aharon/cats/*'      # directory content - only directory content will be uploaded\n",
    "]\n",
    "\n",
    "# upload\n",
    "items = dataset.items.upload(\n",
    "    local_path=paths,               # local paths to upload\n",
    "    local_annotations_path=None,    # local annotations path if exist\n",
    "    file_types=['.jpg'],              # what file types? default - all\n",
    "    relative_path=True,             # upload with local relative path\n",
    "    overwrite=True                  # overwrite existing items in platform\n",
    ")"
   ]
  },
  {
   "cell_type": "markdown",
   "metadata": {},
   "source": [
    "## Edit item metadata"
   ]
  },
  {
   "cell_type": "code",
   "execution_count": 7,
   "metadata": {
    "scrolled": true
   },
   "outputs": [
    {
     "name": "stderr",
     "output_type": "stream",
     "text": [
      " [Elapsed Time: 0:00:00] |###################################| (ETA:  00:00:00)\n"
     ]
    }
   ],
   "source": [
    "# upload item\n",
    "local_path = '/Users/aharonlouzon/Desktop/Dataloop/SDK/Aharon/flower.jpg'\n",
    "item = dataset.items.upload(local_path=local_path)\n",
    "\n",
    "# modify metadata\n",
    "item.metadata['user'] = dict()\n",
    "item.metadata['user']['MyKey'] = 'MyVal'\n",
    "\n",
    "# update and reclaim item\n",
    "item = item.update()"
   ]
  },
  {
   "cell_type": "markdown",
   "metadata": {},
   "source": [
    "## Edit dataset labels"
   ]
  },
  {
   "cell_type": "code",
   "execution_count": 8,
   "metadata": {
    "scrolled": true
   },
   "outputs": [],
   "source": [
    "# get recipe\n",
    "recipe = dataset.recipes.list()[0]\n",
    "# or get specific recipe:\n",
    "# recipe = dataset.recipes.get(recipe_id='id')\n",
    "\n",
    "# get ontology\n",
    "ontology = recipe.ontologies.list()[0]\n",
    "# or get specific ontology:\n",
    "# ontology = recipe.ontologies.get(ontology_id='id')\n",
    "\n",
    "# add one label\n",
    "ontology.add_label(label_name='dog', color=(35, 234, 123))\n",
    "\n",
    "# add a list of labels\n",
    "labels = [{'tag': 'eye', 'color': (1, 1, 1)}, {'tag': 'hat', 'color': (34, 56, 7)},\n",
    "          {'tag': 'face', 'color': (100, 14, 150)}]\n",
    "ontology.add_labels(label_list=labels)\n",
    "\n",
    "# after adding - update ontology\n",
    "ontology = ontology.update()"
   ]
  },
  {
   "cell_type": "markdown",
   "metadata": {},
   "source": [
    "## Annotations"
   ]
  },
  {
   "cell_type": "markdown",
   "metadata": {},
   "source": [
    "### Upload annotations"
   ]
  },
  {
   "cell_type": "code",
   "execution_count": 9,
   "metadata": {
    "scrolled": true
   },
   "outputs": [
    {
     "name": "stderr",
     "output_type": "stream",
     "text": [
      " [Elapsed Time: 0:00:00] |###################################| (ETA:  00:00:00)\n"
     ]
    }
   ],
   "source": [
    "# upload item\n",
    "# local path to item\n",
    "local_item_path = '/Users/aharonlouzon/Desktop/Dataloop/SDK/Aharon/images/lena.png'\n",
    "# local path to annotations\n",
    "local_annotation_path = '/Users/aharonlouzon/Desktop/Dataloop/SDK/Aharon/annotations.json'\n",
    "\n",
    "# upload item\n",
    "item = dataset.items.upload(local_path=local_path)\n",
    "\n",
    "# upload annotations\n",
    "annotations = item.annotations.upload(annotations=local_annotation_path)"
   ]
  },
  {
   "cell_type": "markdown",
   "metadata": {},
   "source": [
    "### Get annotations"
   ]
  },
  {
   "cell_type": "code",
   "execution_count": 10,
   "metadata": {
    "scrolled": true
   },
   "outputs": [],
   "source": [
    "annotations = item.annotations.list()"
   ]
  },
  {
   "cell_type": "markdown",
   "metadata": {},
   "source": [
    "### Show annotations"
   ]
  },
  {
   "cell_type": "code",
   "execution_count": 13,
   "metadata": {
    "scrolled": true
   },
   "outputs": [
    {
     "data": {
      "image/png": "[encoded data removed]",
      "text/plain": [
       "<Figure size 432x288 with 1 Axes>"
      ]
     },
     "metadata": {
      "needs_background": "light"
     },
     "output_type": "display_data"
    }
   ],
   "source": [
    "mask = annotations.show(annotation_format='mask')\n",
    "\n",
    "# import ndarray image viewer\n",
    "import matplotlib.pyplot as plt\n",
    "\n",
    "# show mask\n",
    "plt.figure()\n",
    "plt.imshow(mask.astype('uint8'))\n",
    "plt.show()"
   ]
  },
  {
   "cell_type": "markdown",
   "metadata": {},
   "source": [
    "### Edit annotation"
   ]
  },
  {
   "cell_type": "code",
   "execution_count": 14,
   "metadata": {
    "scrolled": true
   },
   "outputs": [],
   "source": [
    "annotation = annotations[0]\n",
    "annotation.attributes = ['leftEye']\n",
    "annotation = annotation.update()"
   ]
  },
  {
   "cell_type": "markdown",
   "metadata": {},
   "source": [
    "## Move item"
   ]
  },
  {
   "cell_type": "code",
   "execution_count": 15,
   "metadata": {
    "scrolled": true
   },
   "outputs": [],
   "source": [
    "# destination folder\n",
    "dst_folder = '/fighting_shredder'\n",
    "\n",
    "# move\n",
    "item = item.move(new_path=dst_folder)"
   ]
  },
  {
   "cell_type": "markdown",
   "metadata": {},
   "source": [
    "## Use Filters"
   ]
  },
  {
   "cell_type": "code",
   "execution_count": 16,
   "metadata": {
    "scrolled": true
   },
   "outputs": [],
   "source": [
    "# create filters \n",
    "filters = dl.Filters()\n",
    "# set resource\n",
    "filters.resource = 'items'\n",
    "# add filter - only files\n",
    "filters.add(field='type', values='file')\n",
    "# add filter - only annotated items\n",
    "filters.add(field='annotated', values=True)\n",
    "# add filter - filename includes 'dog'\n",
    "filters.add(field='filename', values='*dog*')\n",
    "# add filter - created since June 2019\n",
    "filters.add(field='createdAt', values='01/06/2019', operator='gt')\n",
    "\n",
    "# get filtered items\n",
    "# return results sorted by ascending id \n",
    "filters.sort_by(field='filename')\n",
    "pages = dataset.items.list(filters=filters)"
   ]
  },
  {
   "cell_type": "markdown",
   "metadata": {},
   "source": [
    "## Converter"
   ]
  },
  {
   "cell_type": "markdown",
   "metadata": {},
   "source": [
    "### Create conversion function"
   ]
  },
  {
   "cell_type": "code",
   "execution_count": 17,
   "metadata": {
    "scrolled": true
   },
   "outputs": [],
   "source": [
    "# custom conversion function\n",
    "# converts 1 dataloop annotation to custom format annotation\n",
    "# returns converted annotation\n",
    "def my_converter(annotation):\n",
    "    \"\"\"\n",
    "    :param annotation: dataloop Annotation object\n",
    "    :return: format of new annotation\n",
    "    \"\"\"\n",
    "    ann = {'tagName': annotation.label, 'annotationType': annotation.type, 'coordinates': annotation.coordinates}\n",
    "    return ann"
   ]
  },
  {
   "cell_type": "markdown",
   "metadata": {},
   "source": [
    "### Convert using dl converter"
   ]
  },
  {
   "cell_type": "code",
   "execution_count": 18,
   "metadata": {
    "scrolled": true
   },
   "outputs": [],
   "source": [
    "annotations = item.annotations.list()\n",
    "converter = dl.Converter()\n",
    "converted_annotations = converter.convert(annotations=annotations,\n",
    "                                          from_format='dataloop',\n",
    "                                          to_format='my_format',\n",
    "                                          conversion_func=my_converter)"
   ]
  },
  {
   "cell_type": "markdown",
   "metadata": {},
   "source": [
    "## Ontology and Recipe"
   ]
  },
  {
   "cell_type": "markdown",
   "metadata": {},
   "source": [
    "### Relations"
   ]
  },
  {
   "cell_type": "code",
   "execution_count": 8,
   "metadata": {
    "scrolled": true
   },
   "outputs": [
    {
     "data": {
      "image/png": "[encoded data removed]",
      "text/plain": [
       "<IPython.core.display.Image object>"
      ]
     },
     "execution_count": 8,
     "metadata": {},
     "output_type": "execute_result"
    }
   ],
   "source": [
    "from IPython.display import Image \n",
    "Image(filename='../dtlpy/assets/project_dataset_recipe_ontology.png')"
   ]
  },
  {
   "cell_type": "markdown",
   "metadata": {},
   "source": [
    "### Copy Ontology Between Projects"
   ]
  },
  {
   "cell_type": "code",
   "execution_count": 13,
   "metadata": {
    "scrolled": true
   },
   "outputs": [
    {
     "name": "stdout",
     "output_type": "stream",
     "text": [
      "\n",
      "+----+--------------------------+----------------+---------------+------------------------------+------------------------------+------------------------------------------+---------------------+-------------------------+-----------------+\n",
      "|    | id                       | instructions   | description   | ontologyIds                  | title                        | projectIds                               | creator             | examples                | customActions   |\n",
      "|----+--------------------------+----------------+---------------+------------------------------+------------------------------+------------------------------------------+---------------------+-------------------------+-----------------|\n",
      "|  0 | 5d83a5ae2ef3700385aaac35 | []             |               | ['5d83a5ae2ef3702424aaac34'] | first_dataset Default Recipe | ['bcfd4730-502a-4e98-91e2-6a75f38a850c'] | shmulik@dataloop.ai | {'good': [], 'bad': []} | []              |\n",
      "+----+--------------------------+----------------+---------------+------------------------------+------------------------------+------------------------------------------+---------------------+-------------------------+-----------------+\n"
     ]
    }
   ],
   "source": [
    "import dtlpy as dl\n",
    "dl.setenv('prod')\n",
    "# get the ORIGIN project and dataset\n",
    "from_dataset = dl.projects.get('orgPrg').datasets.get('orgDset')\n",
    "# get all recipes\n",
    "from_recipes = from_dataset.recipes.list()\n",
    "from_recipes.print()"
   ]
  },
  {
   "cell_type": "code",
   "execution_count": 19,
   "metadata": {
    "scrolled": false
   },
   "outputs": [
    {
     "name": "stdout",
     "output_type": "stream",
     "text": [
      "Label(tag='flower1', color='#d25ad1', display_label='Flower1', attributes=['yellow'], children=[Label(tag='yellow', color='#d43c64', display_label='Yellow', attributes=[], children=[])])\n",
      "Label(tag='flower2', color='#d25ad1', display_label='Flower2', attributes=[], children=[])\n",
      "Label(tag='flower3', color='#d25ad1', display_label='Flower3', attributes=[], children=[])\n"
     ]
    }
   ],
   "source": [
    "# get the recipe to copy and list ontologies\n",
    "from_ontologies = from_recipes[0].ontologies.list()\n",
    "# finally, get the ontology to copy\n",
    "from_ontology = from_ontologies[0]\n",
    "for label in from_ontology.labels:\n",
    "    print(label)"
   ]
  },
  {
   "cell_type": "code",
   "execution_count": 21,
   "metadata": {
    "scrolled": true
   },
   "outputs": [
    {
     "name": "stdout",
     "output_type": "stream",
     "text": [
      "\n",
      "+----+--------------------------+----------------+---------------+------------------------------+------------------------+------------------------------------------+----------------+-------------------------+-----------------+\n",
      "|    | id                       | instructions   | description   | ontologyIds                  | title                  | projectIds                               | creator        | examples                | customActions   |\n",
      "|----+--------------------------+----------------+---------------+------------------------------+------------------------+------------------------------------------+----------------+-------------------------+-----------------|\n",
      "|  0 | 5d8b191117384c4f1e31ec2f | []             |               | ['5d8b191150510e6df61792fd'] | dstDset Default Recipe | ['f1aee429-d6e3-48c2-843a-05c0da327634'] | or@dataloop.ai | {'good': [], 'bad': []} | []              |\n",
      "+----+--------------------------+----------------+---------------+------------------------------+------------------------+------------------------------------------+----------------+-------------------------+-----------------+\n"
     ]
    }
   ],
   "source": [
    "# get the DESTINATION project and dataset\n",
    "to_dataset = dl.projects.get('dstPrg').datasets.get('dstDset')\n",
    "# get all recipes\n",
    "to_recipes = to_dataset.recipes.list()\n",
    "to_recipes.print()"
   ]
  },
  {
   "cell_type": "code",
   "execution_count": 24,
   "metadata": {
    "scrolled": true
   },
   "outputs": [
    {
     "name": "stdout",
     "output_type": "stream",
     "text": [
      "\n",
      "+----+--------------------------+----------+---------+----------------+\n",
      "|    | id                       | labels   | roots   | creator        |\n",
      "|----+--------------------------+----------+---------+----------------|\n",
      "|  0 | 5d8b191150510e6df61792fd | []       | []      | or@dataloop.ai |\n",
      "+----+--------------------------+----------+---------+----------------+\n"
     ]
    }
   ],
   "source": [
    "# get the recipe to copy and list ontologies\n",
    "to_ontologies = to_recipes[0].ontologies.list()\n",
    "# finally, get the ontology to edit\n",
    "to_ontology = to_ontologies[0]\n",
    "to_ontology.print()"
   ]
  },
  {
   "cell_type": "code",
   "execution_count": 26,
   "metadata": {
    "scrolled": true
   },
   "outputs": [],
   "source": [
    "# now we set the new relations to the origin ontology so that the ids will match out new ids\n",
    "from_ontology.id = to_ontology.id\n",
    "from_ontology.metadata['system']['projectIds'] = to_ontology.metadata['system']['projectIds']\n",
    "# update the DESTINATION ontology \n",
    "from_ontology = from_ontology.update(system_metadata=True)"
   ]
  },
  {
   "cell_type": "code",
   "execution_count": 30,
   "metadata": {
    "scrolled": true
   },
   "outputs": [
    {
     "name": "stdout",
     "output_type": "stream",
     "text": [
      "Label(tag='flower1', color='#d25ad1', display_label='Flower1', attributes=['yellow'], children=[Label(tag='yellow', color='#d43c64', display_label='Yellow', attributes=[], children=[])])\n",
      "Label(tag='flower2', color='#d25ad1', display_label='Flower2', attributes=[], children=[])\n",
      "Label(tag='flower3', color='#d25ad1', display_label='Flower3', attributes=[], children=[])\n"
     ]
    }
   ],
   "source": [
    "# print the destination ontology to check\n",
    "to_ontology = to_recipes[0].ontologies.get(ontology_id='5d8b191150510e6df61792fd')\n",
    "for label in to_ontology.labels:\n",
    "    print(label)"
   ]
  }
 ],
 "metadata": {
  "kernelspec": {
   "display_name": "Python 3",
   "language": "python",
   "name": "python3"
  },
  "language_info": {
   "codemirror_mode": {
    "name": "ipython",
    "version": 3
   },
   "file_extension": ".py",
   "mimetype": "text/x-python",
   "name": "python",
   "nbconvert_exporter": "python",
   "pygments_lexer": "ipython3",
   "version": "3.5.4"
  }
 },
 "nbformat": 4,
 "nbformat_minor": 2
}
