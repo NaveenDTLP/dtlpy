{
 "cells": [
  {
   "cell_type": "markdown",
   "metadata": {},
   "source": [
    "# Notebook Examples"
   ]
  },
  {
   "cell_type": "markdown",
   "metadata": {},
   "source": [
    "## Print a project"
   ]
  },
  {
   "cell_type": "code",
   "execution_count": 7,
   "metadata": {},
   "outputs": [
    {
     "name": "stdout",
     "output_type": "stream",
     "text": [
      "\n",
      "+----+-------+--------+----------------+--------------------------------------+---------------------+\n",
      "|    | org   | name   | creator        | id                                   | createdAt           |\n",
      "|----+-------+--------+----------------+--------------------------------------+---------------------|\n",
      "|  0 |       | COCO   | or@dataloop.ai | 729659ec-6d7f-11e8-8d00-42010a8a002b | 2018-04-09 12:43:16 |\n",
      "+----+-------+--------+----------------+--------------------------------------+---------------------+\n"
     ]
    }
   ],
   "source": [
    "import dtlpy as dlp\n",
    "dlp.projects.get(project_name='COCO').print()"
   ]
  }
 ],
 "metadata": {
  "kernelspec": {
   "display_name": "dtlpy",
   "language": "python",
   "name": "dtlpy"
  },
  "language_info": {
   "codemirror_mode": {
    "name": "ipython",
    "version": 3
   },
   "file_extension": ".py",
   "mimetype": "text/x-python",
   "name": "python",
   "nbconvert_exporter": "python",
   "pygments_lexer": "ipython3",
   "version": "3.5.6"
  }
 },
 "nbformat": 4,
 "nbformat_minor": 2
}
