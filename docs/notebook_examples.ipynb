{
 "cells": [
  {
   "cell_type": "markdown",
   "metadata": {},
   "source": [
    "# Notebook Examples"
   ]
  },
  {
   "cell_type": "code",
   "execution_count": 1,
   "metadata": {},
   "outputs": [],
   "source": [
    "import dtlpy as dl"
   ]
  },
  {
   "cell_type": "markdown",
   "metadata": {},
   "source": [
    "## Create a project"
   ]
  },
  {
   "cell_type": "code",
   "execution_count": 2,
   "metadata": {},
   "outputs": [],
   "source": [
    "project = dl.projects.create(project_name='Pigs')"
   ]
  },
  {
   "cell_type": "markdown",
   "metadata": {},
   "source": [
    "## Print a project"
   ]
  },
  {
   "cell_type": "code",
   "execution_count": 3,
   "metadata": {},
   "outputs": [
    {
     "name": "stdout",
     "output_type": "stream",
     "text": [
      "\n",
      "+----+---------------------+-----------------------+--------------------------------------+---------+-------+\n",
      "|    | createdAt           | creator               | id                                   | name    | org   |\n",
      "|----+---------------------+-----------------------+--------------------------------------+---------+-------|\n",
      "|  0 | 2019-07-31 12:01:36 | oa-test-1@dataloop.ai | 023a227a-7343-45a4-a657-2c3b49785c0a | b'Pigs' |       |\n",
      "+----+---------------------+-----------------------+--------------------------------------+---------+-------+\n"
     ]
    }
   ],
   "source": [
    "project.print()"
   ]
  },
  {
   "cell_type": "markdown",
   "metadata": {},
   "source": [
    "## Create a dataset"
   ]
  },
  {
   "cell_type": "code",
   "execution_count": 4,
   "metadata": {},
   "outputs": [],
   "source": [
    "dataset = project.datasets.create(dataset_name='My_Dataset')"
   ]
  },
  {
   "cell_type": "markdown",
   "metadata": {},
   "source": [
    "## Print a dataset"
   ]
  },
  {
   "cell_type": "code",
   "execution_count": 5,
   "metadata": {},
   "outputs": [
    {
     "name": "stdout",
     "output_type": "stream",
     "text": [
      "\n",
      "+----+--------------------------+---------------+-------------+-----------------------+------------------------------------------+--------------+\n",
      "|    | id                       | name          |   annotated | creator               | projects                                 |   itemsCount |\n",
      "|----+--------------------------+---------------+-------------+-----------------------+------------------------------------------+--------------|\n",
      "|  0 | 5d4183239e92cf4a0af8b20a | b'My_Dataset' |           0 | oa-test-1@dataloop.ai | ['023a227a-7343-45a4-a657-2c3b49785c0a'] |            0 |\n",
      "+----+--------------------------+---------------+-------------+-----------------------+------------------------------------------+--------------+\n"
     ]
    }
   ],
   "source": [
    "dataset.print()"
   ]
  },
  {
   "cell_type": "markdown",
   "metadata": {},
   "source": [
    "## Upload items to dataset"
   ]
  },
  {
   "cell_type": "code",
   "execution_count": 6,
   "metadata": {},
   "outputs": [
    {
     "name": "stderr",
     "output_type": "stream",
     "text": [
      " [Elapsed Time: 0:00:01] |###################################| (Time:  0:00:01)\n"
     ]
    }
   ],
   "source": [
    "# item_paths\n",
    "paths= [\n",
    "    '/Users/Desktop/images/flower.jpg',  # single image path\n",
    "    '/Users/Desktop/images/dogs',       # directory path - will e uploaded to platform with directory\n",
    "    '/Users/Desktop/images/cats/*'      # directory content - only directory content will be uploaded\n",
    "]\n",
    "\n",
    "# upload\n",
    "items = dataset.items.upload(\n",
    "    local_path=paths,               # local paths to upload\n",
    "    local_annotations_path=None,    # local annotations path if exist\n",
    "    file_types=['.jpg'],              # what file types? default - all\n",
    "    relative_path=True,             # upload with local relative path\n",
    "    overwrite=True                  # overwrite existing items in platform\n",
    ")"
   ]
  },
  {
   "cell_type": "markdown",
   "metadata": {},
   "source": [
    "## Edit item metadata"
   ]
  },
  {
   "cell_type": "code",
   "execution_count": 7,
   "metadata": {},
   "outputs": [
    {
     "name": "stderr",
     "output_type": "stream",
     "text": [
      " [Elapsed Time: 0:00:00] |###################################| (ETA:  00:00:00)\n"
     ]
    }
   ],
   "source": [
    "# upload item\n",
    "local_path = '/Users/Desktop/images/flower.jpg'\n",
    "item = dataset.items.upload(local_path=local_path)\n",
    "\n",
    "# modify metadata\n",
    "item.metadata['user'] = dict()\n",
    "item.metadata['user']['MyKey'] = 'MyVal'\n",
    "\n",
    "# update and reclaim item\n",
    "item = item.update()"
   ]
  },
  {
   "cell_type": "markdown",
   "metadata": {},
   "source": [
    "## Edit dataset labels"
   ]
  },
  {
   "cell_type": "code",
   "execution_count": 8,
   "metadata": {},
   "outputs": [],
   "source": [
    "# get recipe\n",
    "recipe = dataset.recipes.list()[0]\n",
    "# or get specific recipe:\n",
    "# recipe = dataset.recipes.get(recipe_id='id')\n",
    "\n",
    "# get ontology\n",
    "ontology = recipe.ontologies.list()[0]\n",
    "# or get specific ontology:\n",
    "# ontology = recipe.ontologies.get(ontology_id='id')\n",
    "\n",
    "# add one label\n",
    "ontology.add_label(label_name='dog', color=(35, 234, 123))\n",
    "\n",
    "# add a list of labels\n",
    "labels = [{'tag': 'eye', 'color': (1, 1, 1)}, {'tag': 'hat', 'color': (34, 56, 7)},\n",
    "          {'tag': 'face', 'color': (100, 14, 150)}]\n",
    "ontology.add_labels(label_list=labels)\n",
    "\n",
    "# after adding - update ontology\n",
    "ontology = ontology.update()"
   ]
  },
  {
   "cell_type": "markdown",
   "metadata": {},
   "source": [
    "## Annotations"
   ]
  },
  {
   "cell_type": "markdown",
   "metadata": {},
   "source": [
    "### Upload annotations"
   ]
  },
  {
   "cell_type": "code",
   "execution_count": 9,
   "metadata": {},
   "outputs": [
    {
     "name": "stderr",
     "output_type": "stream",
     "text": [
      " [Elapsed Time: 0:00:00] |###################################| (ETA:  00:00:00)\n"
     ]
    }
   ],
   "source": [
    "# upload item\n",
    "# local path to item\n",
    "local_item_path = '/Users/Desktop/images/images/lena.png'\n",
    "# local path to annotations\n",
    "local_annotation_path = '/Users/Desktop/images/annotations.json'\n",
    "\n",
    "# upload item\n",
    "item = dataset.items.upload(local_path=local_path)\n",
    "\n",
    "# upload annotations\n",
    "annotations = item.annotations.upload(annotations=local_annotation_path)"
   ]
  },
  {
   "cell_type": "markdown",
   "metadata": {},
   "source": [
    "### Get annotations"
   ]
  },
  {
   "cell_type": "code",
   "execution_count": 10,
   "metadata": {},
   "outputs": [],
   "source": [
    "annotations = item.annotations.list()"
   ]
  },
  {
   "cell_type": "markdown",
   "metadata": {},
   "source": [
    "### Show annotations"
   ]
  },
  {
   "cell_type": "code",
   "execution_count": 13,
   "metadata": {},
   "outputs": [
    {
     "data": {
      "image/png": "[encoded data removed]",
      "text/plain": [
       "<Figure size 432x288 with 1 Axes>"
      ]
     },
     "metadata": {
      "needs_background": "light"
     },
     "output_type": "display_data"
    }
   ],
   "source": [
    "mask = annotations.show(annotation_format='mask')\n",
    "\n",
    "# import ndarray image viewer\n",
    "import matplotlib.pyplot as plt\n",
    "\n",
    "# show mask\n",
    "plt.figure()\n",
    "plt.imshow(mask.astype('uint8'))\n",
    "plt.show()"
   ]
  },
  {
   "cell_type": "markdown",
   "metadata": {},
   "source": [
    "### Edit annotation"
   ]
  },
  {
   "cell_type": "code",
   "execution_count": 14,
   "metadata": {},
   "outputs": [],
   "source": [
    "annotation = annotations[0]\n",
    "annotation.attributes = ['leftEye']\n",
    "annotation = annotation.update()"
   ]
  },
  {
   "cell_type": "markdown",
   "metadata": {},
   "source": [
    "## Move item"
   ]
  },
  {
   "cell_type": "code",
   "execution_count": 15,
   "metadata": {},
   "outputs": [],
   "source": [
    "# destination folder\n",
    "dst_folder = '/fighting_shredder'\n",
    "\n",
    "# move\n",
    "item = item.move(new_path=dst_folder)"
   ]
  },
  {
   "cell_type": "markdown",
   "metadata": {},
   "source": [
    "## Use Filters"
   ]
  },
  {
   "cell_type": "code",
   "execution_count": 16,
   "metadata": {},
   "outputs": [],
   "source": [
    "# create filters \n",
    "filters = dl.Filters()\n",
    "# set resource\n",
    "filters.resource = 'items'\n",
    "# add filter - only files\n",
    "filters.add(field='type', values='file')\n",
    "# add filter - only annotated items\n",
    "filters.add(field='annotated', values=True)\n",
    "# add filter - filename includes 'dog'\n",
    "filters.add(field='filename', values='*dog*')\n",
    "# add filter - created since June 2019\n",
    "filters.add(field='createdAt', values='01/06/2019', operator='gt')\n",
    "\n",
    "# get filtered items\n",
    "# return results sorted by ascending id \n",
    "filters.sort_by(field='filename')\n",
    "pages = dataset.items.list(filters=filters)"
   ]
  },
  {
   "cell_type": "markdown",
   "metadata": {},
   "source": [
    "## Converter"
   ]
  },
  {
   "cell_type": "markdown",
   "metadata": {},
   "source": [
    "### Create conversion function"
   ]
  },
  {
   "cell_type": "code",
   "execution_count": 17,
   "metadata": {},
   "outputs": [],
   "source": [
    "# custom conversion function\n",
    "# converts 1 dataloop annotation to custom format annotation\n",
    "# returns converted annotation\n",
    "def my_converter(annotation):\n",
    "    \"\"\"\n",
    "    :param annotation: dataloop Annotation object\n",
    "    :return: format of new annotation\n",
    "    \"\"\"\n",
    "    ann = {'tagName': annotation.label, 'annotationType': annotation.type, 'coordinates': annotation.coordinates}\n",
    "    return ann"
   ]
  },
  {
   "cell_type": "markdown",
   "metadata": {},
   "source": [
    "### Convert using dl converter"
   ]
  },
  {
   "cell_type": "code",
   "execution_count": 18,
   "metadata": {},
   "outputs": [],
   "source": [
    "annotations = item.annotations.list()\n",
    "converter = dl.Converter()\n",
    "converted_annotations = converter.convert(annotations=annotations,\n",
    "                                          from_format='dataloop',\n",
    "                                          to_format='my_format',\n",
    "                                          conversion_func=my_converter)"
   ]
  }
 ],
 "metadata": {
  "kernelspec": {
   "display_name": "Python 3",
   "language": "python",
   "name": "python3"
  },
  "language_info": {
   "codemirror_mode": {
    "name": "ipython",
    "version": 3
   },
   "file_extension": ".py",
   "mimetype": "text/x-python",
   "name": "python",
   "nbconvert_exporter": "python",
   "pygments_lexer": "ipython3",
   "version": "3.7.2"
  }
 },
 "nbformat": 4,
 "nbformat_minor": 2
}
